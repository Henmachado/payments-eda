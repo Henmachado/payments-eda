{
 "cells": [
  {
   "cell_type": "code",
   "execution_count": 1,
   "id": "11a88802-0293-458a-b79d-de60d4e9e336",
   "metadata": {},
   "outputs": [],
   "source": [
    "from pyspark.sql import Column as PySparkColumn\n",
    "from pyspark.sql import DataFrame\n",
    "from pyspark.sql import functions as F\n",
    "from pyspark.sql import SparkSession\n",
    "from pyspark.sql import Window\n",
    "\n",
    "from pyspark.sql.types import DoubleType\n",
    "\n",
    "from scipy.stats import norm\n",
    "\n",
    "from typing import List, Union, NamedTuple"
   ]
  },
  {
   "cell_type": "code",
   "execution_count": 2,
   "id": "6bd6b5e4-b140-41a3-8cba-e0241b332ae8",
   "metadata": {},
   "outputs": [
    {
     "name": "stdout",
     "output_type": "stream",
     "text": [
      "23/12/31 22:35:04 WARN Utils: Your hostname, pc resolves to a loopback address: 127.0.1.1; using 192.168.15.88 instead (on interface wlp7s0)\n",
      "23/12/31 22:35:04 WARN Utils: Set SPARK_LOCAL_IP if you need to bind to another address\n"
     ]
    },
    {
     "name": "stderr",
     "output_type": "stream",
     "text": [
      "Setting default log level to \"WARN\".\n",
      "To adjust logging level use sc.setLogLevel(newLevel). For SparkR, use setLogLevel(newLevel).\n"
     ]
    },
    {
     "name": "stdout",
     "output_type": "stream",
     "text": [
      "23/12/31 22:35:05 WARN NativeCodeLoader: Unable to load native-hadoop library for your platform... using builtin-java classes where applicable\n"
     ]
    }
   ],
   "source": [
    "def get_local_spark_session() -> SparkSession:\n",
    "    \"\"\"creates a local spark session\"\"\"\n",
    "    return SparkSession.builder.getOrCreate()\n",
    "\n",
    "\n",
    "spark = get_local_spark_session()\n",
    "\n",
    "spark.sparkContext.setLogLevel(\"OFF\")"
   ]
  },
  {
   "cell_type": "markdown",
   "id": "b0e3c27e-223b-4678-8c07-0ed030d57edc",
   "metadata": {
    "tags": []
   },
   "source": [
    "## Auxiliary Functions & Transformation Objects"
   ]
  },
  {
   "cell_type": "code",
   "execution_count": 3,
   "id": "18d0dc16-b681-4e7c-973d-71d6016e1da5",
   "metadata": {},
   "outputs": [],
   "source": [
    "# I decided to create both objects to make these domain metrics, concepts and transformations reusable somehow for other datasets\n",
    "\n",
    "class TransformedColumns(NamedTuple):\n",
    "\n",
    "    CARD_SCHEME_INFO = (\n",
    "        F.when(F.col(\"CARD_SCHEME_LOCAL\").isNotNull(),F.concat_ws(\"_\",F.col(\"CARD_SCHEME\"),F.col(\"CARD_SCHEME_LOCAL\"))).otherwise(F.col(\"CARD_SCHEME\")).alias(\"CARD_SCHEME_INFO\")\n",
    "    )\n",
    "    \n",
    "    THREE_DS_CHALLENGED = (\n",
    "        F.when(F.col(\"IS_THREE_DS_CHALLENGED\"),F.lit(True)).otherwise(False).alias(\"THREE_DS_CHALLENGED\")\n",
    "    )\n",
    "    \n",
    "    MCC = (\n",
    "        F.regexp_extract(\"MERCHANT_CATEGORY_CODE\", r\"\\d+\", 0).alias(\"MCC\")\n",
    "    )\n",
    "    \n",
    "    BILLING_ADDRESS_PROVIDED = (\n",
    "        F.when(F.col(\"BILLING_ADDRESS_COUNTRY\").isNotNull(),F.lit(True)).otherwise(False).alias(\"BILLING_ADDRESS_PROVIDED\")\n",
    "    )\n",
    "    \n",
    "    CVV_PROVIDED = (\n",
    "        F.when(F.col(\"CVV_PRESENT\"),F.lit(True)).otherwise(False).alias(\"CVV_PROVIDED\")\n",
    "    )\n",
    "    \n",
    "    \n",
    "class Metrics(NamedTuple):\n",
    "\n",
    "\n",
    "    COUNT_RECEIVED = F.sum(F.lit(1)).alias(\"count_received\")\n",
    "    COUNT_AUTHORISED = F.sum(\"IS_AUTHORISED\").alias(\"count_approved\")\n",
    "\n",
    "    AUTH_RATE_COUNT = F.round(COUNT_AUTHORISED / COUNT_RECEIVED,4).alias(\"auth_rate_count\")"
   ]
  },
  {
   "cell_type": "code",
   "execution_count": 4,
   "id": "02289843-b898-425e-836e-27071801d7fd",
   "metadata": {},
   "outputs": [],
   "source": [
    "# The choice of pyspark for this exercise was because payment transactional data can be quite big.\n",
    "# In scenarios where we need to collect and process a huge amount of days, for instance, can be almost \n",
    "# impossible or will demand large amounts of computation resources in frameworks like Pandas\n",
    "\n",
    "\n",
    "def read_csv(spark_session, path: str) -> DataFrame:\n",
    "    \"\"\"loads csv data from a file path inferring the schema\"\"\"\n",
    "    return (\n",
    "        spark_session.read.format(\"com.databricks.spark.csv\")\n",
    "        .option(\"header\", \"true\")\n",
    "        .option(\"treatEmptyValuesAsNulls\", \"true\")\n",
    "        .option(\"inferSchema\", \"true\")\n",
    "        .load(path)\n",
    "    )\n",
    "\n",
    "\n",
    "def add_z_score_column(df: DataFrame) -> DataFrame:\n",
    "    \"\"\"adds a z score column for 2 population proportions\"\"\"\n",
    "    a1 = F.col(\"true_count_approved\")\n",
    "    a2 = F.col(\"false_count_approved\")\n",
    "    n1 = F.col(\"true_count_received\")\n",
    "    n2 = F.col(\"false_count_received\")\n",
    "    \n",
    "    prob1 = F.col(\"true_auth_rate_count\")\n",
    "    prob2 = F.col(\"false_auth_rate_count\")\n",
    "    \n",
    "    p1_minus_p2 = prob1 - prob2\n",
    "    pop_prob = (a1+a2)/(n1+n2)\n",
    "    \n",
    "    raw_z_score = p1_minus_p2 / F.sqrt( (pop_prob*(1-pop_prob)) * ((1/n1)+(1/n2)) )\n",
    "    \n",
    "    cdf = spark.udf.register(\"norm_cdf\", lambda x: float(norm.cdf(x)), DoubleType())\n",
    "    \n",
    "    return df.withColumn(\"z_score\", F.round(raw_z_score, 6))\n",
    "\n",
    "\n",
    "def add_p_value_column(df: DataFrame) -> DataFrame:\n",
    "    \"\"\"adds a p-value column for a given z-score\"\"\"\n",
    "    \n",
    "    #norm.cdf generates numpy float types, therefore the use of udf in order to convert it to a spark native type\n",
    "    cdf = spark.udf.register(\"norm_cdf\", lambda x: float(norm.cdf(abs(x))), DoubleType()) \n",
    "    df = (\n",
    "        df.where(F.col(\"z_score\").isNotNull())\n",
    "        .where(F.col(\"true_count_received\")>3) #filtering up at least 3 observations in each group to avoid unreasonable p-values\n",
    "        .where(F.col(\"false_count_received\")>3)\n",
    "    )\n",
    "               \n",
    "    return df.withColumn(\"p_value\", F.round(2 * (1 - cdf(F.col(\"z_score\"))),6))\n",
    "\n",
    "\n",
    "def add_significance_column(df: DataFrame, i: float) -> DataFrame:\n",
    "    \"\"\"adds a boolean column that indicates statistical significance at a given i level\"\"\"\n",
    "    return df.withColumn(f\"significant_at_{str(i)[-2:]}\", F.when(F.col(\"p_value\")<=i, F.lit(True)).otherwise(False))\n",
    "\n",
    "\n",
    "def get_metrics_df_display(df: DataFrame, \n",
    "                           dimensions: List[Union[PySparkColumn, str]], \n",
    "                           pivot_col: Union[PySparkColumn, str], \n",
    "                           metrics: Metrics = Metrics()) -> DataFrame:\n",
    "    \"\"\"\n",
    "    Auxiliary function for code organization purposes only. It could be converted into a more robust Python lib or in an \n",
    "    automated pipeline transformation in the future, but my focus was more on the potential data insights of the dataset\n",
    "    \"\"\"\n",
    "    df_metrics = (\n",
    "        df\n",
    "        .groupby(*dimensions)\n",
    "        .pivot(pivot_col)\n",
    "        .agg(\n",
    "            metrics.COUNT_AUTHORISED,\n",
    "            metrics.COUNT_RECEIVED,\n",
    "            metrics.AUTH_RATE_COUNT\n",
    "        )\n",
    "        .withColumn(\"total_count\", F.col(\"false_count_received\")+F.col(\"true_count_received\"))\n",
    "        .sort(F.desc(\"total_count\"))\n",
    "        .transform(add_z_score_column)\n",
    "        .transform(add_p_value_column)\n",
    "        .transform(add_significance_column, 0.05)\n",
    "        .drop(\"false_count_approved\",\"true_count_approved\")\n",
    "    )\n",
    "    \n",
    "    df_metrics.show(truncate=False)"
   ]
  },
  {
   "cell_type": "markdown",
   "id": "0b9669a9-38de-47de-a8d8-46023812b0f5",
   "metadata": {},
   "source": [
    "## Datasets"
   ]
  },
  {
   "cell_type": "code",
   "execution_count": 5,
   "id": "65a29ccc-6ac6-448f-b65b-06514ad19cb5",
   "metadata": {},
   "outputs": [],
   "source": [
    "transformed_cols = TransformedColumns()\n",
    "metrics = Metrics()\n",
    "\n",
    "df_transactions = read_csv(spark, \"Downloads/transactions.csv\") \n",
    "df_cards = read_csv(spark, \"Downloads/cards.csv\")\n",
    "\n",
    "df_payments = (\n",
    "    # I decided to focus on this particular subset as it seems to be the bulk of the main \n",
    "    # dataset and for simplification purposes to make the discussions more objective\n",
    "    df_transactions\n",
    "    .join(df_cards, on=\"CARD_FINGERPRINT\", how=\"left\")\n",
    "    .where(F.col(\"ACQUIRER_COUNTRY_NAME\")==\"FR\")\n",
    "    .where(~F.col(\"IS_CARD_VERIFICATION\"))\n",
    "    .where(transformed_cols.MCC==5999)\n",
    "    .where(F.col(\"card_type\")==\"debit\")\n",
    ")"
   ]
  },
  {
   "cell_type": "markdown",
   "id": "d4e97725-4552-4ef8-b401-57d475d4d483",
   "metadata": {},
   "source": [
    "## Internal Optimization & Network Token Application"
   ]
  },
  {
   "cell_type": "code",
   "execution_count": 6,
   "id": "ddf6f1fc-4469-4be7-bcda-0a05085475f4",
   "metadata": {},
   "outputs": [
    {
     "name": "stdout",
     "output_type": "stream",
     "text": [
      "+---------------------------+--------------------+---------------------+-------------------+--------------------+-----------+--------+--------+-----------------+\n",
      "|CARD_SCHEME_INFO           |false_count_received|false_auth_rate_count|true_count_received|true_auth_rate_count|total_count|z_score |p_value |significant_at_05|\n",
      "+---------------------------+--------------------+---------------------+-------------------+--------------------+-----------+--------+--------+-----------------+\n",
      "|visa_cartes_bancaires      |53                  |0.717                |1081               |0.8418              |1134       |2.395583|0.016594|true             |\n",
      "|visa                       |34                  |0.6176               |951                |0.939               |985        |7.120188|0.0     |true             |\n",
      "|mastercard_cartes_bancaires|49                  |0.7959               |846                |0.8215              |895        |0.453601|0.650116|false            |\n",
      "|mastercard                 |21                  |0.5714               |623                |0.9246              |644        |5.64982 |0.0     |true             |\n",
      "+---------------------------+--------------------+---------------------+-------------------+--------------------+-----------+--------+--------+-----------------+\n",
      "\n"
     ]
    },
    {
     "name": "stderr",
     "output_type": "stream",
     "text": [
      "                                                                                \r"
     ]
    }
   ],
   "source": [
    "get_metrics_df_display(\n",
    "    df=df_payments.where(~F.col(\"IS_RETRIED\")), \n",
    "    dimensions=[transformed_cols.CARD_SCHEME_INFO], \n",
    "    pivot_col=\"IS_OPTIMISED\",\n",
    ")"
   ]
  },
  {
   "cell_type": "code",
   "execution_count": 7,
   "id": "d83b970d-ec4c-486c-b6bd-67574e18db00",
   "metadata": {},
   "outputs": [
    {
     "name": "stdout",
     "output_type": "stream",
     "text": [
      "+---------------------------+--------------------+---------------------+-------------------+--------------------+-----------+---------+--------+-----------------+\n",
      "|CARD_SCHEME_INFO           |false_count_received|false_auth_rate_count|true_count_received|true_auth_rate_count|total_count|z_score  |p_value |significant_at_05|\n",
      "+---------------------------+--------------------+---------------------+-------------------+--------------------+-----------+---------+--------+-----------------+\n",
      "|visa_cartes_bancaires      |775                 |0.8129               |359                |0.8858              |1134       |3.083696 |0.002044|true             |\n",
      "|visa                       |830                 |0.9301               |155                |0.9161              |985        |-0.618655|0.536144|false            |\n",
      "|mastercard_cartes_bancaires|840                 |0.8155               |55                 |0.8909              |895        |1.410402 |0.158421|false            |\n",
      "|mastercard                 |514                 |0.9027               |130                |0.9538              |644        |1.847287 |0.064706|false            |\n",
      "+---------------------------+--------------------+---------------------+-------------------+--------------------+-----------+---------+--------+-----------------+\n",
      "\n"
     ]
    }
   ],
   "source": [
    "get_metrics_df_display(\n",
    "    df=df_payments.where(~F.col(\"IS_RETRIED\")), \n",
    "    dimensions=[transformed_cols.CARD_SCHEME_INFO], \n",
    "    pivot_col=\"IS_NETWORK_TOKEN_USED\",\n",
    ")"
   ]
  },
  {
   "cell_type": "code",
   "execution_count": 8,
   "id": "149bc39d-6cfd-4936-bff9-722bc4cd90e9",
   "metadata": {},
   "outputs": [
    {
     "name": "stdout",
     "output_type": "stream",
     "text": [
      "+------------+---------------------+-----+---------------+\n",
      "|IS_OPTIMISED|IS_NETWORK_TOKEN_USED|count|auth_rate_count|\n",
      "+------------+---------------------+-----+---------------+\n",
      "|true        |false                |2802 |0.8712         |\n",
      "|true        |true                 |699  |0.9056         |\n",
      "|false       |false                |157  |0.7006         |\n",
      "+------------+---------------------+-----+---------------+\n",
      "\n"
     ]
    }
   ],
   "source": [
    "(df_payments\n",
    " .where(~F.col(\"IS_RETRIED\"))\n",
    " .groupBy(\"IS_OPTIMISED\",\"IS_NETWORK_TOKEN_USED\")\n",
    " .agg(F.sum(F.lit(1)).alias(\"count\"),metrics.AUTH_RATE_COUNT)\n",
    " .sort(F.desc(\"count\"))\n",
    " .show(truncate=False))"
   ]
  },
  {
   "cell_type": "code",
   "execution_count": 9,
   "id": "2b39c58e-7c60-4a25-b228-4f0fb923640a",
   "metadata": {},
   "outputs": [
    {
     "name": "stdout",
     "output_type": "stream",
     "text": [
      "+---------------------------+-----------------------------------------+--------------------+---------------------+-------------------+--------------------+-----------+---------+--------+-----------------+\n",
      "|CARD_SCHEME_INFO           |ISSUER_NAME                              |false_count_received|false_auth_rate_count|true_count_received|true_auth_rate_count|total_count|z_score  |p_value |significant_at_05|\n",
      "+---------------------------+-----------------------------------------+--------------------+---------------------+-------------------+--------------------+-----------+---------+--------+-----------------+\n",
      "|visa_cartes_bancaires      |BPCE                                     |232                 |0.8922               |249                |0.8795              |481        |-0.437355|0.661854|false            |\n",
      "|visa                       |CAIXABANK S.A.                           |248                 |0.9315               |75                 |0.9067              |323        |-0.717576|0.473019|false            |\n",
      "|mastercard_cartes_bancaires|BANQUE FEDERATIVE DU CREDIT MUTUEL (BFCM)|191                 |0.8848               |54                 |0.8889              |245        |0.083613 |0.933364|false            |\n",
      "|mastercard                 |BANCO SANTANDER S.A.                     |112                 |0.9196               |74                 |0.973               |186        |1.511149 |0.13075 |false            |\n",
      "|visa_cartes_bancaires      |SOCIETE GENERALE S.A.                    |103                 |0.8932               |47                 |0.9149              |150        |0.410923 |0.681129|false            |\n",
      "|visa_cartes_bancaires      |LA BANQUE POSTALE                        |95                  |0.4421               |5                  |0.2                 |100        |-1.065786|0.28652 |false            |\n",
      "|visa_cartes_bancaires      |BNP PARIBAS                              |46                  |0.7826               |53                 |0.9434              |99         |2.362651 |0.018145|true             |\n",
      "|mastercard                 |MASTERCAJAS S.A.                         |44                  |0.8182               |31                 |0.9677              |75         |1.96194  |0.049769|true             |\n",
      "|visa                       |BOURSORAMA BANQUE                        |63                  |0.9683               |11                 |0.9091              |74         |-0.918574|0.358318|false            |\n",
      "|visa                       |BPCE                                     |54                  |0.9259               |20                 |0.95                |74         |0.366805 |0.713764|false            |\n",
      "|mastercard                 |CAIXABANK S.A.                           |29                  |0.8966               |17                 |0.9412              |46         |0.518182 |0.604331|false            |\n",
      "|visa                       |REVOLUT LIMITED                          |21                  |0.8571               |11                 |0.7273              |32         |-0.893498|0.371591|false            |\n",
      "|visa                       |IBERCAJA BANCO S.A                       |28                  |0.9286               |4                  |1.0                 |32         |0.551832 |0.581063|false            |\n",
      "|visa                       |ABANCA CORPORACION BANCARIA  S.A         |13                  |0.9231               |11                 |0.9091              |24         |-0.123645|0.901596|false            |\n",
      "|visa                       |KUTXABANK  S.A.                          |12                  |0.8333               |7                  |1.0                 |19         |1.142122 |0.253403|false            |\n",
      "|visa                       |CAJASUR BANCO S.A                        |10                  |0.9                  |5                  |1.0                 |15         |0.731925 |0.464214|false            |\n",
      "|visa                       |LYDIA SOLUTIONS SAS                      |4                   |0.75                 |4                  |1.0                 |8          |1.069045 |0.285049|false            |\n",
      "+---------------------------+-----------------------------------------+--------------------+---------------------+-------------------+--------------------+-----------+---------+--------+-----------------+\n",
      "\n"
     ]
    }
   ],
   "source": [
    "get_metrics_df_display(\n",
    "    df=df_payments.where(~F.col(\"IS_RETRIED\")), \n",
    "    dimensions=[transformed_cols.CARD_SCHEME_INFO,\"ISSUER_NAME\"], \n",
    "    pivot_col=\"IS_NETWORK_TOKEN_USED\",\n",
    ")"
   ]
  },
  {
   "cell_type": "markdown",
   "id": "b62dffac-b58f-45cc-8584-031ebcc3fa2a",
   "metadata": {},
   "source": [
    "## Three DS"
   ]
  },
  {
   "cell_type": "code",
   "execution_count": 10,
   "id": "2b4e4adf-774e-438a-8b7a-bb79df6afa06",
   "metadata": {},
   "outputs": [
    {
     "name": "stdout",
     "output_type": "stream",
     "text": [
      "+----------------------+------------+-----+---------------+\n",
      "|HAS_THREE_DS_EXEMPTION|HAS_THREE_DS|count|auth_rate_count|\n",
      "+----------------------+------------+-----+---------------+\n",
      "|true                  |false       |3205 |0.9423         |\n",
      "|false                 |true        |261  |0.1533         |\n",
      "|false                 |false       |116  |0.8276         |\n",
      "|true                  |true        |76   |0.3684         |\n",
      "+----------------------+------------+-----+---------------+\n",
      "\n"
     ]
    }
   ],
   "source": [
    "(df_payments\n",
    " .where(~F.col(\"IS_RETRIED\"))\n",
    " .groupBy(\"HAS_THREE_DS_EXEMPTION\",\"HAS_THREE_DS\")\n",
    " .agg(F.sum(F.lit(1)).alias(\"count\"),metrics.AUTH_RATE_COUNT)\n",
    " .sort(F.desc(\"count\"))\n",
    " .show(truncate=False))"
   ]
  },
  {
   "cell_type": "code",
   "execution_count": 11,
   "id": "08b97044-fe2a-4181-96cc-9f97fd489d42",
   "metadata": {},
   "outputs": [
    {
     "name": "stdout",
     "output_type": "stream",
     "text": [
      "+---------------------------+------------+--------------------+---------------------+-------------------+--------------------+-----------+--------+--------+-----------------+\n",
      "|CARD_SCHEME_INFO           |HAS_THREE_DS|false_count_received|false_auth_rate_count|true_count_received|true_auth_rate_count|total_count|z_score |p_value |significant_at_05|\n",
      "+---------------------------+------------+--------------------+---------------------+-------------------+--------------------+-----------+--------+--------+-----------------+\n",
      "|visa_cartes_bancaires      |false       |39                  |0.7949               |961                |0.9272              |1000       |3.020237|0.002526|true             |\n",
      "|visa                       |false       |24                  |0.8333               |932                |0.9442              |956        |2.28433 |0.022352|true             |\n",
      "|mastercard_cartes_bancaires|false       |39                  |0.8974               |716                |0.9413              |755        |1.116156|0.264355|false            |\n",
      "|mastercard                 |false       |14                  |0.7143               |596                |0.9648              |610        |4.673173|3.0E-6  |true             |\n",
      "|mastercard_cartes_bancaires|true        |100                 |0.14                 |40                 |0.275               |140        |1.884121|0.059549|false            |\n",
      "|visa_cartes_bancaires      |true        |108                 |0.1204               |26                 |0.5                 |134        |4.394188|1.1E-5  |true             |\n",
      "|mastercard                 |true        |27                  |0.0741               |7                  |0.1429              |34         |0.571896|0.567392|false            |\n",
      "+---------------------------+------------+--------------------+---------------------+-------------------+--------------------+-----------+--------+--------+-----------------+\n",
      "\n"
     ]
    }
   ],
   "source": [
    "get_metrics_df_display(\n",
    "    df=df_payments.where(~F.col(\"IS_RETRIED\")), \n",
    "    dimensions=[transformed_cols.CARD_SCHEME_INFO,\"HAS_THREE_DS\"], \n",
    "    pivot_col=\"HAS_THREE_DS_EXEMPTION\",\n",
    ")"
   ]
  },
  {
   "cell_type": "code",
   "execution_count": 12,
   "id": "7124219f-1710-4e05-958c-acf94b0fcf15",
   "metadata": {},
   "outputs": [
    {
     "name": "stdout",
     "output_type": "stream",
     "text": [
      "+---------------------------+----------------------+--------------------+---------------------+-------------------+--------------------+-----------+----------+--------+-----------------+\n",
      "|CARD_SCHEME_INFO           |HAS_THREE_DS_EXEMPTION|false_count_received|false_auth_rate_count|true_count_received|true_auth_rate_count|total_count|z_score   |p_value |significant_at_05|\n",
      "+---------------------------+----------------------+--------------------+---------------------+-------------------+--------------------+-----------+----------+--------+-----------------+\n",
      "|visa_cartes_bancaires      |true                  |961                 |0.9272               |26                 |0.5                 |987        |-7.744884 |0.0     |true             |\n",
      "|mastercard_cartes_bancaires|true                  |716                 |0.9413               |40                 |0.275               |756        |-14.058622|0.0     |true             |\n",
      "|mastercard                 |true                  |596                 |0.9648               |7                  |0.1429              |603        |-10.453378|0.0     |true             |\n",
      "|visa_cartes_bancaires      |false                 |39                  |0.7949               |108                |0.1204              |147        |-7.883877 |0.0     |true             |\n",
      "|mastercard_cartes_bancaires|false                 |39                  |0.8974               |100                |0.14                |139        |-8.397417 |0.0     |true             |\n",
      "|visa                       |false                 |24                  |0.8333               |26                 |0.4231              |50         |-2.985488 |0.002831|true             |\n",
      "|mastercard                 |false                 |14                  |0.7143               |27                 |0.0741              |41         |-4.272321 |1.9E-5  |true             |\n",
      "+---------------------------+----------------------+--------------------+---------------------+-------------------+--------------------+-----------+----------+--------+-----------------+\n",
      "\n"
     ]
    }
   ],
   "source": [
    "get_metrics_df_display(\n",
    "    df=df_payments.where(~F.col(\"IS_RETRIED\")), \n",
    "    dimensions=[transformed_cols.CARD_SCHEME_INFO,\"HAS_THREE_DS_EXEMPTION\"], \n",
    "    pivot_col=\"HAS_THREE_DS\",\n",
    ")"
   ]
  },
  {
   "cell_type": "code",
   "execution_count": 13,
   "id": "7040b19c-2de3-4209-b049-9b8c2b04ef34",
   "metadata": {},
   "outputs": [
    {
     "name": "stdout",
     "output_type": "stream",
     "text": [
      "+---------------------------+----------------+----------------+---------------+---------------+\n",
      "|CARD_SCHEME_INFO           |false_avg_ticket|false_max_ticket|true_avg_ticket|true_max_ticket|\n",
      "+---------------------------+----------------+----------------+---------------+---------------+\n",
      "|visa_cartes_bancaires      |93.0            |760.0           |48.0           |242.0          |\n",
      "|mastercard                 |71.0            |320.0           |52.0           |230.0          |\n",
      "|mastercard_cartes_bancaires|86.0            |432.0           |42.0           |236.0          |\n",
      "|visa                       |161.0           |1480.0          |52.0           |239.0          |\n",
      "+---------------------------+----------------+----------------+---------------+---------------+\n",
      "\n"
     ]
    }
   ],
   "source": [
    "(df_payments\n",
    " .where(~F.col(\"IS_RETRIED\"))\n",
    " .groupBy(transformed_cols.CARD_SCHEME_INFO)\n",
    " .pivot(\"HAS_THREE_DS_EXEMPTION\")\n",
    " .agg(\n",
    "     F.round(F.avg(\"TRANSACTION_AMOUNT_EUR\")).alias(\"avg_ticket\"),\n",
    "     F.round(F.max(\"TRANSACTION_AMOUNT_EUR\")).alias(\"max_ticket\")\n",
    " )\n",
    " .show(truncate=False))"
   ]
  },
  {
   "cell_type": "code",
   "execution_count": 14,
   "id": "8027edca-5a39-45dc-b84e-08805bdae8ef",
   "metadata": {},
   "outputs": [
    {
     "name": "stdout",
     "output_type": "stream",
     "text": [
      "+---------------------------+-----+----+\n",
      "|CARD_SCHEME_INFO           |false|true|\n",
      "+---------------------------+-----+----+\n",
      "|visa_cartes_bancaires      |68   |700 |\n",
      "|mastercard                 |22   |401 |\n",
      "|mastercard_cartes_bancaires|65   |594 |\n",
      "|visa                       |22   |618 |\n",
      "+---------------------------+-----+----+\n",
      "\n"
     ]
    }
   ],
   "source": [
    "(df_payments\n",
    " .where(~F.col(\"IS_RETRIED\"))\n",
    " .where(F.col(\"TRANSACTION_AMOUNT_EUR\")<55)\n",
    " .groupBy(transformed_cols.CARD_SCHEME_INFO)\n",
    " .pivot(\"HAS_THREE_DS_EXEMPTION\")\n",
    " .count()\n",
    " .show(truncate=False))\n",
    " "
   ]
  },
  {
   "cell_type": "markdown",
   "id": "0bd4efec-9a73-442a-9830-4aa4c1161522",
   "metadata": {},
   "source": [
    "## Retries"
   ]
  },
  {
   "cell_type": "code",
   "execution_count": 15,
   "id": "ba545684-c25a-41ca-8925-0e8634fdda38",
   "metadata": {},
   "outputs": [
    {
     "name": "stdout",
     "output_type": "stream",
     "text": [
      "+---------------------------+--------------------+---------------------+-------------------+--------------------+-----------+---------+--------+-----------------+\n",
      "|CARD_SCHEME_INFO           |false_count_received|false_auth_rate_count|true_count_received|true_auth_rate_count|total_count|z_score  |p_value |significant_at_05|\n",
      "+---------------------------+--------------------+---------------------+-------------------+--------------------+-----------+---------+--------+-----------------+\n",
      "|visa_cartes_bancaires      |21                  |0.9524               |407                |0.7912              |428        |-1.797759|0.072215|false            |\n",
      "|mastercard_cartes_bancaires|14                  |1.0                  |264                |0.9205              |278        |-1.096931|0.272672|false            |\n",
      "|visa                       |26                  |0.9615               |38                 |0.2368              |64         |-5.705933|0.0     |true             |\n",
      "|mastercard                 |21                  |0.9524               |41                 |0.439               |62         |-3.927859|8.6E-5  |true             |\n",
      "+---------------------------+--------------------+---------------------+-------------------+--------------------+-----------+---------+--------+-----------------+\n",
      "\n"
     ]
    }
   ],
   "source": [
    "get_metrics_df_display(\n",
    "    df=df_payments.where(F.col(\"IS_RETRIED\")), \n",
    "    dimensions=[transformed_cols.CARD_SCHEME_INFO], \n",
    "    pivot_col=\"IS_OPTIMISED\",\n",
    ")"
   ]
  },
  {
   "cell_type": "code",
   "execution_count": 16,
   "id": "db7c8f7e-03a4-4b45-9991-4318c7e14109",
   "metadata": {},
   "outputs": [
    {
     "name": "stdout",
     "output_type": "stream",
     "text": [
      "+---------------------------+--------------------+---------------------+-------------------+--------------------+-----------+---------+--------+-----------------+\n",
      "|CARD_SCHEME_INFO           |false_count_received|false_auth_rate_count|true_count_received|true_auth_rate_count|total_count|z_score  |p_value |significant_at_05|\n",
      "+---------------------------+--------------------+---------------------+-------------------+--------------------+-----------+---------+--------+-----------------+\n",
      "|visa_cartes_bancaires      |216                 |0.9167               |212                |0.6792              |428        |-6.130812|0.0     |true             |\n",
      "|mastercard_cartes_bancaires|176                 |0.9432               |102                |0.8922              |278        |-1.550861|0.120935|false            |\n",
      "|visa                       |19                  |0.3158               |45                 |0.6222              |64         |2.244201 |0.024819|true             |\n",
      "|mastercard                 |27                  |0.5556               |35                 |0.6571              |62         |0.813543 |0.415907|false            |\n",
      "+---------------------------+--------------------+---------------------+-------------------+--------------------+-----------+---------+--------+-----------------+\n",
      "\n"
     ]
    }
   ],
   "source": [
    "get_metrics_df_display(\n",
    "    df=df_payments.where(F.col(\"IS_RETRIED\")), \n",
    "    dimensions=[transformed_cols.CARD_SCHEME_INFO], \n",
    "    pivot_col=\"CVV_PRESENT\",\n",
    ")"
   ]
  },
  {
   "cell_type": "code",
   "execution_count": 17,
   "id": "6c3a6f21-2095-41e5-807b-8f7f31fdd861",
   "metadata": {},
   "outputs": [
    {
     "name": "stdout",
     "output_type": "stream",
     "text": [
      "+---------------------------+---------------------+--------------------+---------------------+-------------------+--------------------+-----------+---------+--------+-----------------+\n",
      "|CARD_SCHEME_INFO           |IS_NETWORK_TOKEN_USED|false_count_received|false_auth_rate_count|true_count_received|true_auth_rate_count|total_count|z_score  |p_value |significant_at_05|\n",
      "+---------------------------+---------------------+--------------------+---------------------+-------------------+--------------------+-----------+---------+--------+-----------------+\n",
      "|mastercard_cartes_bancaires|false                |170                 |0.9412               |100                |0.91                |270        |-0.967937|0.333076|false            |\n",
      "|visa_cartes_bancaires      |false                |166                 |0.8916               |96                 |0.6875              |262        |-4.114867|3.9E-5  |true             |\n",
      "|visa_cartes_bancaires      |true                 |50                  |1.0                  |116                |0.6724              |166        |-4.60909 |4.0E-6  |true             |\n",
      "|visa                       |false                |19                  |0.3158               |42                 |0.6429              |61         |2.374165 |0.017589|true             |\n",
      "|mastercard                 |false                |25                  |0.52                 |33                 |0.6667              |58         |1.131027 |0.258044|false            |\n",
      "+---------------------------+---------------------+--------------------+---------------------+-------------------+--------------------+-----------+---------+--------+-----------------+\n",
      "\n"
     ]
    }
   ],
   "source": [
    "get_metrics_df_display(\n",
    "    df=df_payments.where(F.col(\"IS_RETRIED\")), \n",
    "    dimensions=[transformed_cols.CARD_SCHEME_INFO, \"IS_NETWORK_TOKEN_USED\"], \n",
    "    pivot_col=\"CVV_PRESENT\",\n",
    ")"
   ]
  },
  {
   "cell_type": "code",
   "execution_count": null,
   "id": "f6e91e43-027d-41bc-847a-29b29f48a246",
   "metadata": {},
   "outputs": [],
   "source": []
  }
 ],
 "metadata": {
  "kernelspec": {
   "display_name": "Python 3 (ipykernel)",
   "language": "python",
   "name": "python3"
  },
  "language_info": {
   "codemirror_mode": {
    "name": "ipython",
    "version": 3
   },
   "file_extension": ".py",
   "mimetype": "text/x-python",
   "name": "python",
   "nbconvert_exporter": "python",
   "pygments_lexer": "ipython3",
   "version": "3.9.13"
  }
 },
 "nbformat": 4,
 "nbformat_minor": 5
}
